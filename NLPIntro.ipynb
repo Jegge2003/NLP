{
  "nbformat": 4,
  "nbformat_minor": 0,
  "metadata": {
    "colab": {
      "provenance": [],
      "authorship_tag": "ABX9TyNgrZH8CfzQ9efU/0D10MAB",
      "include_colab_link": true
    },
    "kernelspec": {
      "name": "python3",
      "display_name": "Python 3"
    },
    "language_info": {
      "name": "python"
    }
  },
  "cells": [
    {
      "cell_type": "markdown",
      "metadata": {
        "id": "view-in-github",
        "colab_type": "text"
      },
      "source": [
        "<a href=\"https://colab.research.google.com/github/Jegge2003/NLP/blob/main/NLPIntro.ipynb\" target=\"_parent\"><img src=\"https://colab.research.google.com/assets/colab-badge.svg\" alt=\"Open In Colab\"/></a>"
      ]
    },
    {
      "cell_type": "markdown",
      "source": [
        "TOKENIZATION"
      ],
      "metadata": {
        "id": "jOLxX5VseMGR"
      }
    },
    {
      "cell_type": "code",
      "execution_count": 4,
      "metadata": {
        "id": "xVL7OcCbdG8r"
      },
      "outputs": [],
      "source": [
        "#Importing the needed libraries\n",
        "from nltk.tokenize import word_tokenize\n",
        "import nltk"
      ]
    },
    {
      "cell_type": "code",
      "source": [
        "#Downloading nltk needed resources into notebook\n",
        "nltk.download('punkt')"
      ],
      "metadata": {
        "colab": {
          "base_uri": "https://localhost:8080/"
        },
        "id": "MlIr5QGAejpM",
        "outputId": "dbe311cb-b45d-4bb6-b792-1372022c896f"
      },
      "execution_count": 5,
      "outputs": [
        {
          "output_type": "stream",
          "name": "stderr",
          "text": [
            "[nltk_data] Downloading package punkt to /root/nltk_data...\n",
            "[nltk_data]   Unzipping tokenizers/punkt.zip.\n"
          ]
        },
        {
          "output_type": "execute_result",
          "data": {
            "text/plain": [
              "True"
            ]
          },
          "metadata": {},
          "execution_count": 5
        }
      ]
    },
    {
      "cell_type": "code",
      "source": [
        "#Generating tokens for Hello World!\n",
        "word_tokenize(\"Hello World!\")"
      ],
      "metadata": {
        "colab": {
          "base_uri": "https://localhost:8080/"
        },
        "id": "v8zp519WeJEz",
        "outputId": "a0d930ba-c852-4a65-b805-bba804e7f59d"
      },
      "execution_count": 6,
      "outputs": [
        {
          "output_type": "execute_result",
          "data": {
            "text/plain": [
              "['Hello', 'World', '!']"
            ]
          },
          "metadata": {},
          "execution_count": 6
        }
      ]
    },
    {
      "cell_type": "markdown",
      "source": [
        "SIMPLE TOIC IDENFICATION USING BAG-OF-WORDS APPROACH"
      ],
      "metadata": {
        "id": "jfpNY6ehmMT4"
      }
    },
    {
      "cell_type": "code",
      "source": [
        "#Importing the needed libraries\n",
        "from nltk.tokenize import word_tokenize\n",
        "from collections import Counter"
      ],
      "metadata": {
        "id": "eKQg2yCfeY8C"
      },
      "execution_count": 7,
      "outputs": []
    },
    {
      "cell_type": "code",
      "source": [
        "#Counting the individual words or topics in the sentence\n",
        "Counter(word_tokenize(\"The lady slapped the boy very hard. He did not do anything to deserve that. The boy is now in the hospital.\"))"
      ],
      "metadata": {
        "colab": {
          "base_uri": "https://localhost:8080/"
        },
        "id": "C2aij_INnns6",
        "outputId": "7fa4c5ac-2b04-4665-9d21-bb1a4d8b2998"
      },
      "execution_count": 9,
      "outputs": [
        {
          "output_type": "execute_result",
          "data": {
            "text/plain": [
              "Counter({'The': 2,\n",
              "         'lady': 1,\n",
              "         'slapped': 1,\n",
              "         'the': 2,\n",
              "         'boy': 2,\n",
              "         'very': 1,\n",
              "         'hard': 1,\n",
              "         '.': 3,\n",
              "         'He': 1,\n",
              "         'did': 1,\n",
              "         'not': 1,\n",
              "         'do': 1,\n",
              "         'anything': 1,\n",
              "         'to': 1,\n",
              "         'deserve': 1,\n",
              "         'that': 1,\n",
              "         'is': 1,\n",
              "         'now': 1,\n",
              "         'in': 1,\n",
              "         'hospital': 1})"
            ]
          },
          "metadata": {},
          "execution_count": 9
        }
      ]
    }
  ]
}